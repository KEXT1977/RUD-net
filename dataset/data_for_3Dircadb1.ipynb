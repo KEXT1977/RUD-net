{
 "cells": [
  {
   "cell_type": "code",
   "execution_count": 33,
   "metadata": {},
   "outputs": [],
   "source": [
    "import zipfile\n",
    "from tqdm import tqdm\n",
    "import cv2\n",
    "from glob import glob\n",
    "import os,shutil\n",
    "import numpy as np\n",
    "from pydicom import dcmread"
   ]
  },
  {
   "cell_type": "code",
   "execution_count": 15,
   "metadata": {},
   "outputs": [
    {
     "name": "stderr",
     "output_type": "stream",
     "text": [
      "100%|██████████| 20/20 [01:19<00:00,  3.96s/it]\n"
     ]
    }
   ],
   "source": [
    "try:\n",
    "    os.rename('download','download.zip')\n",
    "except:\n",
    "    None\n",
    "\n",
    "file=zipfile.ZipFile('download.zip')\n",
    "        # 解压文件\n",
    "        # print('开始解压...')\n",
    "file.extractall()\n",
    "        # print('解压结束。')\n",
    "        # 关闭文件流\n",
    "file.close()\n",
    "# 压缩文件路径\n",
    "\n",
    "for i in tqdm(range(1,21)):\n",
    "    \n",
    "    for name in ['MASKS','PATIENT']:\n",
    "        zip_path='3Dircadb1/3Dircadb1.{}/{}_DICOM.zip'.format(i,name)\n",
    "        # 文件存储路径\n",
    "        save_path = '3Dircadb1/3Dircadb1.{}/'.format(i)\n",
    "\n",
    "        # 读取压缩文件\n",
    "        file=zipfile.ZipFile(zip_path)\n",
    "        # 解压文件\n",
    "        #print('开始解压...')\n",
    "        file.extractall(save_path)\n",
    "        #print('解压结束。')\n",
    "        # 关闭文件流\n",
    "        file.close()\n",
    "        \n"
   ]
  },
  {
   "cell_type": "code",
   "execution_count": 38,
   "metadata": {},
   "outputs": [],
   "source": [
    "if os.path.exists('CTDircadb1/mask/') == False and os.path.exists('CTDircadb1/mask/') == False:\n",
    "    os.mkdir('CTDircadb1/mask/')\n",
    "    os.mkdir('CTDircadb1/origin/')"
   ]
  },
  {
   "cell_type": "code",
   "execution_count": 39,
   "metadata": {},
   "outputs": [
    {
     "name": "stderr",
     "output_type": "stream",
     "text": [
      "100%|██████████| 20/20 [00:18<00:00,  1.07it/s]\n"
     ]
    }
   ],
   "source": [
    "from pydicom import dcmread\n",
    "import SimpleITK as sitk\n",
    "\n",
    "# os.rename()\n",
    "for i in tqdm(range(1,21)):\n",
    "    \n",
    "    for name in ['MASKS','PATIENT']:\n",
    "        if name == 'MASKS':\n",
    "            doc_list = glob('3Dircadb1/3Dircadb1.{}/{}_DICOM/bone/*'.format(i,name))\n",
    "            out_path = 'CTDircadb1/mask/'\n",
    "\n",
    "            for mask_path in doc_list:\n",
    "\n",
    "                img_name = mask_path.rsplit('/',1)[1]\n",
    "                shutil.copyfile(mask_path,out_path+str(i)+'_'+img_name+'.dcm')\n",
    "\n",
    "        else:\n",
    "            doc_list = glob('3Dircadb1/3Dircadb1.{}/{}_DICOM/*'.format(i,name))\n",
    "            out_path = 'CTDircadb1/origin/'\n",
    "            \n",
    "            for origin_path in doc_list:\n",
    "                \n",
    "                img_name = origin_path.rsplit('/',1)[1]\n",
    "                shutil.copyfile(origin_path,out_path+str(i)+'_'+img_name+'.dcm')\n",
    "                "
   ]
  },
  {
   "cell_type": "code",
   "execution_count": 40,
   "metadata": {},
   "outputs": [
    {
     "name": "stderr",
     "output_type": "stream",
     "text": [
      "100%|██████████| 2823/2823 [00:10<00:00, 269.51it/s]\n",
      "100%|██████████| 2823/2823 [00:13<00:00, 213.99it/s]\n"
     ]
    }
   ],
   "source": [
    "for name in ['mask','origin']:\n",
    "    \n",
    "        path_res = 'CTDircadb1/{}/'.format(name)\n",
    "        file_list = glob(path_res+'/*.dcm')\n",
    "        for i in tqdm(file_list):\n",
    "            a = dcmread(i)\n",
    "            img_arr = a.pixel_array\n",
    "            if name == 'mask':\n",
    "                img_arr = np.where(img_arr < 1, img_arr, 255)\n",
    "\n",
    "            cv2.imwrite(i[:-3]+'png',img_arr)\n"
   ]
  },
  {
   "cell_type": "code",
   "execution_count": 41,
   "metadata": {},
   "outputs": [],
   "source": [
    "for name in ['mask','origin']:\n",
    "    path_res = 'CTDircadb1/{}/'.format(name)    \n",
    "    for j in glob(path_res+'/*.dcm'):\n",
    "        os.remove(j)"
   ]
  },
  {
   "cell_type": "code",
   "execution_count": 29,
   "metadata": {},
   "outputs": [],
   "source": [
    "import os\n",
    "from glob import glob\n",
    "from random import sample\n",
    "import shutil\n",
    "\n",
    "path_test_ori = 'CTDircadb1/test/origin/'\n",
    "path_test_mask = 'CTDircadb1/test/mask/'\n",
    "\n",
    "if os.path.exists('CTDircadb1/test/') == False :\n",
    "    os.mkdir('CTDircadb1/test/')\n",
    "    os.mkdir(path_test_ori)\n",
    "    os.mkdir(path_test_mask)\n"
   ]
  },
  {
   "cell_type": "code",
   "execution_count": 30,
   "metadata": {},
   "outputs": [],
   "source": [
    "radio = 0.1\n",
    "\n",
    "ori_path = glob(  path_test_ori.replace('/test','')  +'/*.png')\n",
    "mask_path = glob(path_test_mask.replace('/test','')  +'/*.png')\n",
    "\n",
    "ori_path.sort()\n",
    "mask_path.sort()\n",
    "\n",
    "pic_name = [i.rsplit('/',1)[1] for i in ori_path]\n",
    "pic_name.sort()"
   ]
  },
  {
   "cell_type": "code",
   "execution_count": 31,
   "metadata": {},
   "outputs": [],
   "source": [
    "for name in sample(pic_name,int(len(pic_name)*radio)):\n",
    "    for file in ['mask','origin']:\n",
    "        shutil.move('CTDircadb1/{}/'.format(file) + name,'CTDircadb1/test/{}/'.format(file) + name)\n",
    "        "
   ]
  }
 ],
 "metadata": {
  "kernelspec": {
   "display_name": "data",
   "language": "python",
   "name": "python3"
  },
  "language_info": {
   "codemirror_mode": {
    "name": "ipython",
    "version": 3
   },
   "file_extension": ".py",
   "mimetype": "text/x-python",
   "name": "python",
   "nbconvert_exporter": "python",
   "pygments_lexer": "ipython3",
   "version": "3.9.16"
  },
  "orig_nbformat": 4
 },
 "nbformat": 4,
 "nbformat_minor": 2
}
