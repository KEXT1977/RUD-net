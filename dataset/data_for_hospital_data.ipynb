{
 "cells": [
  {
   "cell_type": "code",
   "execution_count": 1,
   "metadata": {},
   "outputs": [],
   "source": [
    "import SimpleITK as sitk\n",
    "import numpy as np\n",
    "import json\n",
    "import cv2\n",
    "import copy\n",
    "from tqdm import tqdm\n",
    "from tqdm.contrib import tzip\n",
    "import os\n",
    "from glob import glob\n",
    "import random,json"
   ]
  },
  {
   "cell_type": "code",
   "execution_count": 12,
   "metadata": {},
   "outputs": [],
   "source": [
    "if os.path.exists('hospital_data_clean') == False:\n",
    "    \n",
    "    os.mkdir('hospital_data_clean')\n",
    "    os.mkdir('hospital_data_clean/png/')\n",
    "    os.mkdir('hospital_data_clean/dcm/')\n",
    "    os.mkdir('hospital_data_clean/png/origin')\n",
    "    os.mkdir('hospital_data_clean/png/mask')\n",
    "    os.mkdir('hospital_data_clean/dcm/origin')\n",
    "    os.mkdir('hospital_data_clean/dcm/mask')"
   ]
  },
  {
   "cell_type": "code",
   "execution_count": 13,
   "metadata": {},
   "outputs": [],
   "source": [
    "nii_path_list = glob(\"hospital_data/*.nii.gz\")\n",
    "# nii_path_list = [i for i in nii_path_list if 'vascular' not in i ]\n",
    "nii_path_list.sort()"
   ]
  },
  {
   "cell_type": "code",
   "execution_count": 14,
   "metadata": {},
   "outputs": [
    {
     "name": "stderr",
     "output_type": "stream",
     "text": [
      "100%|██████████| 40/40 [06:05<00:00,  9.13s/it]\n"
     ]
    }
   ],
   "source": [
    "for nii_path in tqdm(nii_path_list):\n",
    "\n",
    "    reader = sitk.ImageFileReader()\n",
    "    reader.SetFileName(nii_path)\n",
    "    image = reader.Execute()\n",
    "    img_array = sitk.GetArrayFromImage(image)\n",
    "    \n",
    "    if 'vascular' not in nii_path:\n",
    "        volumn_name = nii_path.rsplit('/',1)[1].split('.')[0] \n",
    "        out_path1 = 'hospital_data_clean/png/origin'\n",
    "        out_path2 = 'hospital_data_clean/dcm/origin'\n",
    "        \n",
    "        for num in range(img_array.shape[0]):\n",
    "            img_array1 = img_array[num,:,:]\n",
    "            cv2.imwrite(os.path.join(out_path1,'{0}_{1}.png'.format(volumn_name,num)),img_array1)\n",
    "            \n",
    "            img_out_itk = sitk.GetImageFromArray(img_array1.astype('int16'))\n",
    "            sitk.WriteImage(img_out_itk, os.path.join(out_path2 , '{0}_{1}.dcm'.format(volumn_name,num)))\n",
    "    \n",
    "    else:\n",
    "        volumn_name = nii_path.rsplit('/',1)[1].split('_')[0] \n",
    "        out_path1 = 'hospital_data_clean/png/mask'\n",
    "        out_path2 = 'hospital_data_clean/dcm/mask'\n",
    "        \n",
    "        for num in range(img_array.shape[0]):\n",
    "            img_array1 = img_array[num,:,:]\n",
    "            cv2.imwrite(os.path.join(out_path1,'{0}_{1}.png'.format(volumn_name,num)),img_array1)\n",
    "            \n",
    "            img_out_itk = sitk.GetImageFromArray(img_array1.astype('int16'))\n",
    "            sitk.WriteImage(img_out_itk,  os.path.join(out_path2 , '{0}_{1}.dcm'.format(volumn_name,num)))"
   ]
  },
  {
   "cell_type": "code",
   "execution_count": 2,
   "metadata": {},
   "outputs": [
    {
     "name": "stderr",
     "output_type": "stream",
     "text": [
      "100%|██████████| 20/20 [00:33<00:00,  1.68s/it]\n"
     ]
    }
   ],
   "source": [
    "nii_path_list = glob(\"hospital_data/*rebi.nii.gz\")\n",
    "# nii_path_list = [i for i in nii_path_list if 'vascular' not in i ]\n",
    "nii_path_list.sort()\n",
    "\n",
    "for nii_path in tqdm(nii_path_list):\n",
    "\n",
    "    reader = sitk.ImageFileReader()\n",
    "    reader.SetFileName(nii_path)\n",
    "    image = reader.Execute()\n",
    "    img_array = sitk.GetArrayFromImage(image)  \n",
    "\n",
    "    volumn_name = nii_path.rsplit('/',1)[1].split('_')[0] \n",
    "    out_path1 = 'hospital_data_clean/png/rebi_mask'\n",
    "    out_path2 = 'hospital_data_clean/dcm/rebi_mask'\n",
    "    try:\n",
    "        os.mkdir(out_path1)\n",
    "        os.mkdir(out_path2)\n",
    "    except:\n",
    "        None\n",
    "    for num in range(img_array.shape[0]):\n",
    "        img_array1 = img_array[num,:,:]\n",
    "        cv2.imwrite(os.path.join(out_path1,'{0}_{1}.png'.format(volumn_name,num)),img_array1)\n",
    "        \n",
    "        img_out_itk = sitk.GetImageFromArray(img_array1.astype('int16'))\n",
    "        sitk.WriteImage(img_out_itk,  os.path.join(out_path2 , '{0}_{1}.dcm'.format(volumn_name,num)))"
   ]
  },
  {
   "cell_type": "code",
   "execution_count": null,
   "metadata": {},
   "outputs": [],
   "source": [
    "# 取出1/10作为训练集，另外9/10作为测试集,做成json的格式记录,构造finetune数据集\n",
    "name = 'origin'\n",
    "\n",
    "name2 = 'mask_bone'\n",
    "\n",
    "allpic = glob('hospital_data_clean/png/{0}/*.png'.format(name))\n",
    "\n",
    "sample_num = int(len(allpic)/10)\n",
    "train_pic = random.sample(allpic, sample_num)\n",
    "test_pic = list(set(allpic) - set(train_pic))\n",
    "if name == 'origin':\n",
    "    with open('hospital_data_clean/png/finetune/train.json','w') as f:\n",
    "        json.dump(train_pic, f, indent=4)\n",
    "    \n",
    "    with open('hospital_data_clean/png/finetune/test.json','w') as f:\n",
    "        json.dump(test_pic, f, indent=4)\n",
    "\n",
    "# copy\n",
    "import shutil\n",
    "\n",
    "for i in tqdm(train_pic):\n",
    "    shutil.copy(i,'hospital_data_clean/png/finetune/train/{0}/'.format(name))\n",
    "    shutil.copy(i.replace(name, name2),'hospital_data_clean/png/finetune/train/mask/')\n",
    "\n",
    "for j in tqdm(test_pic):\n",
    "    shutil.copy(j,'hospital_data_clean/png/finetune/test/{0}/'.format(name))\n",
    "    shutil.copy(j.replace(name, name2),'hospital_data_clean/png/finetune/test/mask/')"
   ]
  },
  {
   "cell_type": "code",
   "execution_count": 15,
   "metadata": {},
   "outputs": [
    {
     "data": {
      "application/vnd.jupyter.widget-view+json": {
       "model_id": "6c305453efec40a5a9b37a04380b011d",
       "version_major": 2,
       "version_minor": 0
      },
      "text/plain": [
       "  0%|          | 0/7007 [00:00<?, ?it/s]"
      ]
     },
     "metadata": {},
     "output_type": "display_data"
    },
    {
     "name": "stdout",
     "output_type": "stream",
     "text": [
      "There're nothing wrong\n"
     ]
    }
   ],
   "source": [
    "from check_all import check_all\n",
    "check_all('hospital_data_clean/png/mask','hospital_data_clean/png/origin',(512,512,3))"
   ]
  },
  {
   "cell_type": "code",
   "execution_count": null,
   "metadata": {},
   "outputs": [],
   "source": [
    "from check_all import check_all\n",
    "check_all('hospital_data_clean/dcm/mask','hospital_data_clean/dcm/origin',(512,512,3))"
   ]
  }
 ],
 "metadata": {
  "kernelspec": {
   "display_name": "data",
   "language": "python",
   "name": "python3"
  },
  "language_info": {
   "codemirror_mode": {
    "name": "ipython",
    "version": 3
   },
   "file_extension": ".py",
   "mimetype": "text/x-python",
   "name": "python",
   "nbconvert_exporter": "python",
   "pygments_lexer": "ipython3",
   "version": "3.9.16"
  },
  "orig_nbformat": 4
 },
 "nbformat": 4,
 "nbformat_minor": 2
}
