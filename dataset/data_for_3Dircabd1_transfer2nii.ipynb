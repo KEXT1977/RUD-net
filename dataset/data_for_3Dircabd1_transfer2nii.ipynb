{
 "cells": [
  {
   "cell_type": "code",
   "execution_count": 12,
   "metadata": {},
   "outputs": [],
   "source": [
    "from glob import glob\n",
    "import cv2,os\n",
    "import SimpleITK as sitk\n",
    "import numpy as np\n",
    "from tqdm import tqdm\n",
    "from operator import itemgetter\n",
    "import pandas as pd \n",
    "from shutil import copyfile\n",
    "\n",
    "import random,json\n",
    "\n",
    "\n",
    "path1 = 'CTDircadb1/test/pred'\n",
    "path2 = 'CTDircadb1/test/mask'\n",
    "path3 = 'CTDircadb1/test/origin'\n",
    "path4 = 'hospital_data_clean/png/pred'\n",
    "path5 = 'hospital_data_clean/png/origin'\n",
    "# path6 = 'LIDC_nodul/origin'"
   ]
  },
  {
   "cell_type": "code",
   "execution_count": 5,
   "metadata": {},
   "outputs": [],
   "source": [
    "# 取一个hospital 数据集volumn的函数\n",
    "\n",
    "def get_nii(volumn,path_in='hospital_data_clean/png/pred'):\n",
    "   '''\n",
    "   volumn:取出哪一个volumn\n",
    "   path_in:数据集地址\n",
    "   '''\n",
    "   path_in = path_in.rstrip('/')\n",
    "   a = os.listdir(path_in)\n",
    "   a.sort()\n",
    "   list_res = []\n",
    "   for i in range(volumn,volumn+1):\n",
    "      list_temp = [j for j in a if 'id{:0>2d}'.format(i) in j]\n",
    "      list_temp.sort(key=lambda x:int(x.split('_')[1].split('.')[0]))\n",
    "      list_res+=list_temp\n",
    "      \n",
    "   a = list_res\n",
    "   c = path_in + '/' + pd.Series(a) \n",
    "   c.tolist()\n",
    "   \n",
    "   from tools import fold2nii\n",
    "\n",
    "   fold2nii(c,path_in+volumn)"
   ]
  },
  {
   "cell_type": "code",
   "execution_count": 4,
   "metadata": {},
   "outputs": [
    {
     "name": "stderr",
     "output_type": "stream",
     "text": [
      "100%|██████████| 208/208 [00:03<00:00, 64.51it/s]\n",
      "100%|██████████| 208/208 [00:03<00:00, 63.33it/s] \n"
     ]
    }
   ],
   "source": [
    "# 取volumn=12来看看情况\n",
    "\n",
    "v = 12\n",
    "\n",
    "for name in ['mask_bone','origin']:\n",
    "    \n",
    "    path_temp = 'hospital_data_clean/png/{}'.format(name)\n",
    "    get_nii(volumn = v,path_in=path_temp)\n"
   ]
  },
  {
   "cell_type": "code",
   "execution_count": null,
   "metadata": {},
   "outputs": [],
   "source": [
    "# LIDC_nodul 变nii\n",
    "# a = os.listdir(path6)\n",
    "# a.sort()\n",
    "# a = glob(path6+'/*.dcm')\n",
    "\n",
    "# a.sort()\n",
    "\n",
    "# import sys\n",
    "# sys.path.append('/home/extends/cxt/model')\n",
    "# from tools import fold2nii\n",
    "\n",
    "# fold2nii(a,path6)"
   ]
  },
  {
   "cell_type": "code",
   "execution_count": 4,
   "metadata": {},
   "outputs": [
    {
     "name": "stderr",
     "output_type": "stream",
     "text": [
      "  0%|          | 0/4 [00:00<?, ?it/s]\n",
      "  0%|          | 0/4 [00:00<?, ?it/s]\n",
      "  0%|          | 0/4 [00:00<?, ?it/s]\n"
     ]
    }
   ],
   "source": [
    "# # 取出一个volumn到一个文件夹,构造hospital_testvolumn\n",
    "# for name in ['origin','rebi_mask','mask']:\n",
    "#    a = os.listdir('hospital_data_clean/dcm/{0}'.format(name))\n",
    "#    a.sort()\n",
    "#    list_res = []\n",
    "#    for i in tqdm(range(1,2)):\n",
    "#       list_temp = [j for j in a if 'id0{}'.format(i) in j]\n",
    "#       list_temp.sort(key=lambda x:int(x.split('_')[1].split('.')[0]))\n",
    "#       list_res+=list_temp\n",
    "#       break\n",
    "#    a = list_res\n",
    "#    c = 'hospital_data_clean/dcm/{0}'.format(name) + '/' + pd.Series(a) \n",
    "#    c.tolist()\n",
    "\n",
    "\n",
    "#    for path_ in c:\n",
    "#       try:\n",
    "#          os.makedirs('hospital_testvolumn/{0}/'.format(name))\n",
    "#       except:\n",
    "#          copyfile(path_,'hospital_testvolumn/{0}/'.format(name)+path_.rsplit('/',1)[1])"
   ]
  },
  {
   "cell_type": "code",
   "execution_count": 22,
   "metadata": {},
   "outputs": [
    {
     "name": "stderr",
     "output_type": "stream",
     "text": [
      "100%|██████████| 700/700 [00:05<00:00, 138.09it/s]\n",
      "100%|██████████| 6307/6307 [00:37<00:00, 169.09it/s]\n"
     ]
    }
   ],
   "source": [
    "# 取出1/10作为训练集，另外9/10作为测试集,做成json的格式记录,构造finetune数据集\n",
    "name = 'origin'\n",
    "\n",
    "name2 = 'mask_bone'\n",
    "\n",
    "allpic = glob('hospital_data_clean/png/{0}/*.png'.format(name))\n",
    "\n",
    "sample_num = int(len(allpic)/10)\n",
    "train_pic = random.sample(allpic, sample_num)\n",
    "test_pic = list(set(allpic) - set(train_pic))\n",
    "if name == 'origin':\n",
    "    with open('hospital_data_clean/png/finetune/train.json','w') as f:\n",
    "        json.dump(train_pic, f, indent=4)\n",
    "    \n",
    "    with open('hospital_data_clean/png/finetune/test.json','w') as f:\n",
    "        json.dump(test_pic, f, indent=4)\n",
    "\n",
    "# copy\n",
    "import shutil\n",
    "\n",
    "for i in tqdm(train_pic):\n",
    "    shutil.copy(i,'hospital_data_clean/png/finetune/train/{0}/'.format(name))\n",
    "    shutil.copy(i.replace(name, name2),'hospital_data_clean/png/finetune/train/mask/')\n",
    "\n",
    "for j in tqdm(test_pic):\n",
    "    shutil.copy(j,'hospital_data_clean/png/finetune/test/{0}/'.format(name))\n",
    "    shutil.copy(j.replace(name, name2),'hospital_data_clean/png/finetune/test/mask/')"
   ]
  },
  {
   "cell_type": "code",
   "execution_count": 10,
   "metadata": {},
   "outputs": [
    {
     "name": "stderr",
     "output_type": "stream",
     "text": [
      "100%|██████████| 282/282 [00:07<00:00, 37.77it/s]\n",
      "100%|██████████| 282/282 [00:06<00:00, 41.79it/s] \n",
      "100%|██████████| 282/282 [00:06<00:00, 42.72it/s] \n"
     ]
    }
   ],
   "source": [
    "# CTDircadb1 数据集变成nii文件\n",
    "path1 = 'CTDircadb1/test/pred'\n",
    "path2 = 'CTDircadb1/test/mask'\n",
    "path3 = 'CTDircadb1/test/origin'\n",
    "for path_temp in [path1,path2,path3]:\n",
    "    \n",
    "    path_ = glob(path_temp+'/*.png')\n",
    "    path_.sort()\n",
    "    count = 0\n",
    "    for pic in tqdm(path_):\n",
    "        if count == 0:\n",
    "            \n",
    "            a = cv2.imread(pic,1) \n",
    "            a = cv2.cvtColor(a,cv2.COLOR_BGR2GRAY)\n",
    "            a = a[np.newaxis,:]\n",
    "            \n",
    "        else:\n",
    "            b = cv2.imread(pic,1)\n",
    "            b = cv2.cvtColor(b,cv2.COLOR_BGR2GRAY)\n",
    "            b = b[np.newaxis,:]\n",
    "            a = np.vstack((a,b))\n",
    "            \n",
    "        count += 1\n",
    "\n",
    "    out = sitk.GetImageFromArray(a)\n",
    "    sitk.WriteImage(out, path_temp+'.nii.gz')\n",
    "        "
   ]
  },
  {
   "cell_type": "code",
   "execution_count": 1,
   "metadata": {},
   "outputs": [
    {
     "name": "stderr",
     "output_type": "stream",
     "text": [
      "100%|██████████| 305/305 [00:20<00:00, 14.78it/s]\n",
      "100%|██████████| 305/305 [00:18<00:00, 16.07it/s]\n",
      "100%|██████████| 305/305 [00:17<00:00, 17.92it/s]\n",
      "100%|██████████| 305/305 [00:06<00:00, 47.40it/s] \n"
     ]
    }
   ],
   "source": [
    "## rebi_mask/origin/mask 转nii\n",
    "import sys,os\n",
    "import pandas as pd\n",
    "\n",
    "sys.path.append('/home/extends/cxt/model')\n",
    "from tools import fold2nii\n",
    "for name in ['rebi_mask','origin','mask','mask_bone']:\n",
    "    path_ = 'hospital_testvolumn/{0}'.format(name)\n",
    "    q = os.listdir(path_)\n",
    "    q.sort(key=lambda x:int(x.split('_')[1].split('.')[0]))\n",
    "    d = path_ + '/' + pd.Series(q) \n",
    "    d = d.to_list()\n",
    "    fold2nii(d,path_)"
   ]
  }
 ],
 "metadata": {
  "kernelspec": {
   "display_name": "data",
   "language": "python",
   "name": "python3"
  },
  "language_info": {
   "codemirror_mode": {
    "name": "ipython",
    "version": 3
   },
   "file_extension": ".py",
   "mimetype": "text/x-python",
   "name": "python",
   "nbconvert_exporter": "python",
   "pygments_lexer": "ipython3",
   "version": "3.9.16"
  },
  "orig_nbformat": 4
 },
 "nbformat": 4,
 "nbformat_minor": 2
}
